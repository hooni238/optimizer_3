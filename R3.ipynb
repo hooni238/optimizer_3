{
 "cells": [
  {
   "cell_type": "code",
   "execution_count": 1,
   "metadata": {},
   "outputs": [],
   "source": [
    "import numpy as np"
   ]
  },
  {
   "cell_type": "code",
   "execution_count": 4,
   "metadata": {},
   "outputs": [],
   "source": [
    "file_name = 'R32.txt'"
   ]
  },
  {
   "cell_type": "code",
   "execution_count": 7,
   "metadata": {},
   "outputs": [],
   "source": [
    "dataset = []\n",
    "with open(file_name) as f:\n",
    "    q = f.readline()\n",
    "    [di, n_d, m, k, out] = [int(i) for i in q.split()]\n",
    "    D = np.zeros((n_d,di))\n",
    "    X = [[0.0]*di for i in range(n_d)]\n",
    "    r_point = [0]*di\n",
    "    q = f.readline()\n",
    "    k_c = [int(i) for i in q.split()]\n",
    "    i = 0\n",
    "    for line in f:\n",
    "        r_point = [0]*di\n",
    "        r_point = line.split()\n",
    "        D[i] = [float(rr) for rr in r_point]\n",
    "        X[i] = [float(rr) for rr in r_point]\n",
    "        i += 1"
   ]
  },
  {
   "cell_type": "code",
   "execution_count": null,
   "metadata": {},
   "outputs": [],
   "source": [
    "# clusters and outliers are find by R3_visualize and "
   ]
  }
 ],
 "metadata": {
  "kernelspec": {
   "display_name": "Python 3",
   "language": "python",
   "name": "python3"
  },
  "language_info": {
   "codemirror_mode": {
    "name": "ipython",
    "version": 3
   },
   "file_extension": ".py",
   "mimetype": "text/x-python",
   "name": "python",
   "nbconvert_exporter": "python",
   "pygments_lexer": "ipython3",
   "version": "3.7.6"
  },
  "toc": {
   "base_numbering": 1,
   "nav_menu": {},
   "number_sections": true,
   "sideBar": true,
   "skip_h1_title": false,
   "title_cell": "Table of Contents",
   "title_sidebar": "Contents",
   "toc_cell": false,
   "toc_position": {},
   "toc_section_display": true,
   "toc_window_display": false
  }
 },
 "nbformat": 4,
 "nbformat_minor": 4
}
